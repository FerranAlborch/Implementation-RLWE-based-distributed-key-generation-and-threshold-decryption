{
 "cells": [
  {
   "cell_type": "code",
   "execution_count": 6,
   "metadata": {},
   "outputs": [],
   "source": [
    "#Import and load what is necessary\n",
    "import math\n",
    "import scipy.special\n",
    "from sage.functions.log import logb\n",
    "import sympy.ntheory as nt\n",
    "load(\"estimator.py\")"
   ]
  },
  {
   "cell_type": "code",
   "execution_count": 7,
   "metadata": {},
   "outputs": [],
   "source": [
    "#Set n=2^a, u, lambda\n",
    "beta = 12\n",
    "n = 2^beta\n",
    "u = 7\n",
    "t = 2\n",
    "lam = 100\n",
    "binomt = Integer(scipy.special.binom(u,t))"
   ]
  },
  {
   "cell_type": "code",
   "execution_count": 8,
   "metadata": {},
   "outputs": [
    {
     "name": "stdout",
     "output_type": "stream",
     "text": [
      "Best choice of parameters\n",
      "n = 4096\n",
      "Exponent = 149\n",
      "q = 713623846352979940529142984724747568191373381\n",
      "kappa = 168\n",
      "xi = 14.897861091181875\n",
      "Interkg = 872305872233851041593123383308976128\n",
      "Interdec = 8403614205785368527542540898258331059093504\n",
      "bitsec = 121.2322970\n"
     ]
    }
   ],
   "source": [
    "#Iterate through q and find xi with more than 100 bits of security for passive adversary in KeyGen\n",
    "found = False\n",
    "b = 100\n",
    "logging.getLogger(\"estimator\").setLevel(logging.WARNING)\n",
    "while b in range(100,301) and not found:\n",
    "    # Set q as next prime after 2^b and compute its kappa\n",
    "    q = nt.nextprime(2^b)\n",
    "    kappa = floor((-1+math.sqrt(1+(2*n*u*q)/(binomt*2^(lam+beta)+1)))/(4*n*u))\n",
    "    \n",
    "    # If the sqrt can be done compute xi, otherwise set to 0 so that it does not trigger the next if\n",
    "    if (math.sqrt(math.pi/2)*2^(-lam-beta)*(kappa+0.5)<1):\n",
    "        xi = math.sqrt(((kappa+0.5)^2)/(-2*math.log(math.sqrt(math.pi/2)*2^(-lam)*(kappa+0.5))))\n",
    "    else:\n",
    "        xi=0\n",
    "    #print(\"b=\",b,\"q=\",q,\"kappa=\",kappa,\"xi=\",xi,end=\"\\r\")\n",
    "    \n",
    "    # If xi satisfies the conditions for the reduction to be valid compute the bits of security of the LWE instance\n",
    "    if(xi > math.sqrt(math.log(n))*(n/math.log(n))^0.25):\n",
    "        alpha = xi/q\n",
    "        x = estimate_lwe(n,alpha,q)\n",
    "        bitsec = min([logb(x[a][b],2).n(digits=10) for a in ['usvp','dec','dual'] for b in ['rop','red']])\n",
    "        \n",
    "        # If the bits of security are greater than 100 we have found what we were looking for\n",
    "        if(bitsec > 100):\n",
    "            found = True\n",
    "        #print(\"b=\",b,\"q=\",q,\"kappa=\",kappa,\"xi=\",xi,\"bitsec=\",bitsec,end=\"\\r\")\n",
    "\n",
    "    print(\"Exponent\",b,end=\"\\r\")\n",
    "    \n",
    "    if(found):\n",
    "        print(\"Best choice of parameters\")\n",
    "        print(\"n =\",n)\n",
    "        print(\"Exponent =\",b)\n",
    "        print(\"q =\",q)\n",
    "        print(\"kappa =\",kappa)\n",
    "        print(\"xi =\",xi)\n",
    "        print(\"Interkg =\",kappa*2^(lam+beta))\n",
    "        print(\"Interdec =\",(2*n*u*kappa^2+kappa)*2^(lam+beta))\n",
    "        print(\"bitsec =\",bitsec)\n",
    "        \n",
    "    b=b+1"
   ]
  },
  {
   "cell_type": "code",
   "execution_count": 9,
   "metadata": {},
   "outputs": [],
   "source": [
    "#Set n=2^a, u, lambda\n",
    "beta = 13\n",
    "n = 2^beta\n",
    "u = 7\n",
    "t = 2\n",
    "lam = 100\n",
    "binomt = Integer(scipy.special.binom(u,t))"
   ]
  },
  {
   "cell_type": "code",
   "execution_count": 10,
   "metadata": {},
   "outputs": [
    {
     "name": "stdout",
     "output_type": "stream",
     "text": [
      "Best choice of parameters\n",
      "n= 8192\n",
      "Exponent= 262\n",
      "q= 7410693711188236507108543040556026102609279018600996098525285376506440296955983\n",
      "kappa= 206\n",
      "xi= 18.286710200938593\n",
      "Interkg = 2139226305716348982954564487638679552\n",
      "Interdec = 349896969524365747914251792793790321002909717222668391406077539144787109609472\n",
      "bitsec= 147.4606484\n"
     ]
    }
   ],
   "source": [
    "#Iterate through q and find xi with more than 100 bits of security for active adversary in KeyGen\n",
    "found = False\n",
    "b = 100\n",
    "logging.getLogger(\"estimator\").setLevel(logging.WARNING)\n",
    "while b in range(100,301) and not found:\n",
    "    # Set q as next prime after 2^b and compute its kappa\n",
    "    q = nt.nextprime(2^b)\n",
    "    kappa = floor(3*((-1+math.sqrt(1+(4*n*u*q*(2^(lam+beta)+1))/(3*(binomt*2^(lam+beta-2)+1))))/(8*n*u*(2^(lam+beta)+1))))\n",
    "    \n",
    "    # If the sqrt can be done compute xi, otherwise set to 0 so that it does not trigger the next if\n",
    "    if (math.sqrt(math.pi/2)*2^(-lam-beta)*(kappa+0.5)<1):\n",
    "        xi = math.sqrt(((kappa+0.5)^2)/(-2*math.log(math.sqrt(math.pi/2)*2^(-lam)*(kappa+0.5))))\n",
    "    else:\n",
    "        xi=0\n",
    "    #print(\"b=\",b,\"q=\",q,\"kappa=\",kappa,\"xi=\",xi,end=\"\\r\")\n",
    "    \n",
    "    # If xi satisfies the conditions for the reduction to be valid compute the bits of security of the LWE instance\n",
    "    if(xi > math.sqrt(math.log(n))*(n/math.log(n))^0.25):\n",
    "        alpha = xi/q\n",
    "        x = estimate_lwe(n,alpha,q)\n",
    "        bitsec = min([logb(x[a][b],2).n(digits=10) for a in ['usvp','dec','dual'] for b in ['rop','red']])\n",
    "        \n",
    "        # If the bits of security are greater than 100 we have found what we were looking for\n",
    "        if(bitsec > 100):\n",
    "            found = True\n",
    "        #print(\"b=\",b,\"q=\",q,\"kappa=\",kappa,\"xi=\",xi,\"bitsec=\",bitsec,end=\"\\r\")\n",
    "\n",
    "    print(\"Exponent\",b,end=\"\\r\")\n",
    "    \n",
    "    if(found):\n",
    "        print(\"Best choice of parameters\")\n",
    "        print(\"n=\",n)\n",
    "        print(\"Exponent=\",b)\n",
    "        print(\"q=\",q)\n",
    "        print(\"kappa=\",kappa)\n",
    "        print(\"xi=\",xi)\n",
    "        print(\"Interkg =\",kappa*2^(lam+beta))\n",
    "        print(\"Interdec =\",(4*n*(u/3)*kappa^2*(2^(lam+beta)+1))*2^(lam+beta))\n",
    "        print(\"bitsec=\",bitsec)\n",
    "        \n",
    "    b=b+1"
   ]
  },
  {
   "cell_type": "code",
   "execution_count": null,
   "metadata": {},
   "outputs": [],
   "source": []
  }
 ],
 "metadata": {
  "kernelspec": {
   "display_name": "SageMath 9.1",
   "language": "sage",
   "name": "sagemath"
  },
  "language_info": {
   "codemirror_mode": {
    "name": "ipython",
    "version": 3
   },
   "file_extension": ".py",
   "mimetype": "text/x-python",
   "name": "python",
   "nbconvert_exporter": "python",
   "pygments_lexer": "ipython3",
   "version": "3.7.3"
  }
 },
 "nbformat": 4,
 "nbformat_minor": 2
}
